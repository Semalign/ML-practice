{
  "nbformat": 4,
  "nbformat_minor": 0,
  "metadata": {
    "colab": {
      "provenance": [],
      "authorship_tag": "ABX9TyMlO6FwvVDLGtJGm408D1E/",
      "include_colab_link": true
    },
    "kernelspec": {
      "name": "python3",
      "display_name": "Python 3"
    },
    "language_info": {
      "name": "python"
    }
  },
  "cells": [
    {
      "cell_type": "markdown",
      "metadata": {
        "id": "view-in-github",
        "colab_type": "text"
      },
      "source": [
        "<a href=\"https://colab.research.google.com/github/Semalign/Semalign/blob/main/MachineLearningModelTraining.ipynb\" target=\"_parent\"><img src=\"https://colab.research.google.com/assets/colab-badge.svg\" alt=\"Open In Colab\"/></a>"
      ]
    },
    {
      "cell_type": "code",
      "execution_count": null,
      "metadata": {
        "id": "_7Cudip3ajJ8"
      },
      "outputs": [],
      "source": []
    },
    {
      "cell_type": "markdown",
      "source": [
        "# here we begin by defining our problem\n",
        "it is diabetes progression based on\n",
        "various medical features\n"
      ],
      "metadata": {
        "id": "ZjHtSuU-bGpM"
      }
    },
    {
      "cell_type": "code",
      "source": [
        "# Goal : predict the progression of diabetes(regression problem)\n",
        "# data : synthetic using random module from numpy\n",
        "# sucess metrics : MSE\n"
      ],
      "metadata": {
        "id": "ijj2g7GxbTSI"
      },
      "execution_count": 1,
      "outputs": []
    },
    {
      "cell_type": "code",
      "source": [
        "# step 1 : create synthetic data using numpy and pandas\n",
        "import numpy as np\n",
        "import pandas as pd\n",
        "\n",
        "num_samples=100\n",
        "np.random.seed(10)\n",
        "age=np.random.randint(20,80,num_samples)\n",
        "bmi=np.random.uniform(18,40,num_samples)\n",
        "blood_pressure=np.random.uniform(80,180,num_samples)\n",
        "m1=np.random.uniform(0.2,6.2,num_samples)\n",
        "m2=np.random.uniform(0.2,6.2,num_samples)\n",
        "m3=np.random.uniform(0.2,6.2,num_samples)\n",
        "\n",
        "progression=(50+age*0.3+bmi*2+blood_pressure*0.1+m1*2+m2*3+m3*1.5)+ np.random.randint(-10,10,num_samples)\n",
        "\n",
        "diabetes_data=pd.DataFrame({\n",
        "    'age':age,\n",
        "    'bmi':bmi,\n",
        "    'blood_pressure':blood_pressure,\n",
        "    'm1':m1,\n",
        "    'm2':m2,\n",
        "    'm3':m3,\n",
        "    'progression':progression,\n",
        "})\n",
        "diabetes_data.head()\n",
        "diabetes_data.to_csv('synthetic_diabetes_data',index=False)"
      ],
      "metadata": {
        "id": "ZMfNDF2qb-yY"
      },
      "execution_count": 10,
      "outputs": []
    },
    {
      "cell_type": "code",
      "source": [
        "# the next step is preparing the data for training\n",
        "from sklearn.model_selection import train_test_split\n",
        "from sklearn.preprocessing import StandardScaler\n",
        "from sklearn.compose import ColumnTransformer\n",
        "from sklearn.pipeline import Pipeline\n",
        "\n",
        "data=pd.read_csv('synthetic_diabetes_data.csv')\n",
        "print(data.head())\n"
      ],
      "metadata": {
        "colab": {
          "base_uri": "https://localhost:8080/"
        },
        "id": "Ndo9BstBdyu4",
        "outputId": "6c3cad1a-7a0c-4980-f8fc-3c18715237ec"
      },
      "execution_count": 12,
      "outputs": [
        {
          "output_type": "stream",
          "name": "stdout",
          "text": [
            "   age        bmi  blood_pressure        m1        m2        m3  progression\n",
            "0   29  36.064324      130.697863  5.016656  1.507451  0.829744   161.698715\n",
            "1   56  21.325344      161.903586  3.965371  5.619030  3.263788   150.324563\n",
            "2   35  26.450518       89.010673  5.127299  0.258620  4.072932   136.441958\n",
            "3   20  38.773736      160.006875  1.929519  1.554876  1.118401   157.749427\n",
            "4   69  39.727760      136.512635  1.848771  0.992331  0.210558   178.797155\n"
          ]
        }
      ]
    },
    {
      "cell_type": "code",
      "source": [
        "X=data.drop('progression', axis=1)\n",
        "y=data['progression']\n",
        "\n",
        "numerical_features=['age','bmi','blood_pressure','m1','m2','m3']\n",
        "numeric_transformer=Pipeline(steps=[('scaler',StandardScaler())])\n",
        "\n",
        "preprocessor=ColumnTransformer(transformers=[('num',numeric_transformer,numerical_features)])\n"
      ],
      "metadata": {
        "id": "EybYYLcWfmOS"
      },
      "execution_count": 14,
      "outputs": []
    },
    {
      "cell_type": "code",
      "source": [
        "X_train,X_test,y_train,y_test=train_test_split(X,y,test_size=0.2,random_state=10)\n",
        "X_train=preprocessor.fit_transform(X_train)\n",
        "X_test=preprocessor.fit_transform(X_test)\n"
      ],
      "metadata": {
        "id": "zgfqLhoIhh3N"
      },
      "execution_count": 18,
      "outputs": []
    },
    {
      "cell_type": "code",
      "source": [
        "# now the next step is training the model\n",
        "from sklearn.ensemble import RandomForestRegressor\n",
        "from sklearn.metrics import mean_squared_error\n",
        "\n",
        "rf_model =RandomForestRegressor(n_estimators=100,random_state=10)\n",
        "rf_model.fit(X_train,y_train)\n",
        "\n",
        "y_pred=rf_model.predict(X_test)\n",
        "\n",
        "mse=mean_squared_error(y_test,y_pred)\n",
        "\n",
        "print(f'mse:{mse}')"
      ],
      "metadata": {
        "colab": {
          "base_uri": "https://localhost:8080/"
        },
        "id": "vuhLHBvPiKeF",
        "outputId": "4680b55e-70ac-459a-b1ec-def31cca7b8c"
      },
      "execution_count": 24,
      "outputs": [
        {
          "output_type": "stream",
          "name": "stdout",
          "text": [
            "mse:97.3167416843925\n"
          ]
        }
      ]
    },
    {
      "cell_type": "code",
      "source": [
        "# now after the evaluation the next step is to evaluate the model\n",
        "# we can use grid search to obtain the best hyperparametrs\n",
        "\n",
        "from sklearn.model_selection import GridSearchCV\n",
        "param_grid={\n",
        "    'n_estimators':[50,100,200],\n",
        "    'max_depth':[None,10,20,30],\n",
        "    'min_samples_split':[2,5,10],\n",
        "    'min_samples_leaf':[1,2,4],\n",
        "}\n",
        "grid_search=GridSearchCV(estimator=RandomForestRegressor(random_state=10),param_grid=param_grid,cv=5,n_jobs=-1,verbose=2)\n",
        "grid_search.fit(X_train,y_train)\n",
        "\n",
        "best_params=grid_search.best_params_\n",
        "print(f'best parameters:{best_params}')\n",
        "best_rf_model=grid_search.best_estimator_\n",
        "best_rf_y_pred=best_rf_model.predict(X_test)\n",
        "best_rf_mse=mean_squared_error(y_test,best_rf_y_pred)\n",
        "print(f'mse:{mse}')"
      ],
      "metadata": {
        "colab": {
          "base_uri": "https://localhost:8080/"
        },
        "id": "SMV4eZc2i_Xw",
        "outputId": "484ff7b7-7f8a-4ab4-ac8b-399d896012f8"
      },
      "execution_count": null,
      "outputs": [
        {
          "output_type": "stream",
          "name": "stdout",
          "text": [
            "Fitting 5 folds for each of 108 candidates, totalling 540 fits\n"
          ]
        }
      ]
    }
  ]
}