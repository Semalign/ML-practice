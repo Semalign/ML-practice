{
  "nbformat": 4,
  "nbformat_minor": 0,
  "metadata": {
    "colab": {
      "provenance": [],
      "authorship_tag": "ABX9TyPoD7W7ZJgeEanz5VmCFrRM",
      "include_colab_link": true
    },
    "kernelspec": {
      "name": "python3",
      "display_name": "Python 3"
    },
    "language_info": {
      "name": "python"
    }
  },
  "cells": [
    {
      "cell_type": "markdown",
      "metadata": {
        "id": "view-in-github",
        "colab_type": "text"
      },
      "source": [
        "<a href=\"https://colab.research.google.com/github/Semalign/Semalign/blob/main/MLusingPythonplusGPTMainly.ipynb\" target=\"_parent\"><img src=\"https://colab.research.google.com/assets/colab-badge.svg\" alt=\"Open In Colab\"/></a>"
      ]
    },
    {
      "cell_type": "markdown",
      "source": [
        "ML model to predict car price"
      ],
      "metadata": {
        "id": "hBGrkKqXj55G"
      }
    },
    {
      "cell_type": "code",
      "execution_count": 1,
      "metadata": {
        "id": "IaYQMtapiPqJ",
        "collapsed": true
      },
      "outputs": [],
      "source": [
        "# now it is time to build my own ml model\n",
        "import numpy as np\n",
        "import pandas as pd\n",
        "\n",
        "n_s=1000\n",
        "\n",
        "# features include year,brand,mileage,cusomer_number\n",
        "# targert is price\n",
        "\n",
        "np.random.seed(3)\n",
        "\n",
        "year=np.random.randint(2000,2024,n_s)\n",
        "brand=np.random.choice(['A','B','C'],n_s)\n",
        "mileage=np.random.randint(5000,200000,n_s)\n",
        "c_n=np.random.randint(1,1000,n_s)\n",
        "\n",
        "prices=((c_n*100)+(mileage*5)+(50000+(year%2000)*1000) + np.random.randint(-5000,5000,n_s))\n",
        "# feature defintion finished here\n",
        "\n",
        "car_data=pd.DataFrame({\n",
        "    'year':year,\n",
        "    'brand':brand,\n",
        "    'mileage':mileage,\n",
        "    'c_n':c_n,\n",
        "    'price':prices,\n",
        "})\n",
        "\n",
        "car_data.to_csv('car_dat_synthetic.csv',index=False)\n",
        "\n"
      ]
    },
    {
      "cell_type": "code",
      "source": [
        "# next step is preparing the data for training\n",
        "from sklearn.model_selection import train_test_split\n",
        "from sklearn.preprocessing import OneHotEncoder,StandardScaler\n",
        "from sklearn.compose import ColumnTransformer\n",
        "from sklearn.pipeline import Pipeline\n",
        "\n",
        "data=pd.read_csv('car_dat_synthetic.csv')\n",
        "\n",
        "X=data.drop('price',axis=1)\n",
        "y=data['price']\n",
        "\n",
        "numerical_features=['year','mileage','c_n']\n",
        "categorical_features=['brand']\n",
        "\n",
        "numeric_transformer=Pipeline(steps=[('scaler',StandardScaler())])\n",
        "categorical_transformer=Pipeline(steps=[('onehot',OneHotEncoder())])\n",
        "\n",
        "preprocessor=ColumnTransformer(transformers=[\n",
        "    ('num',numeric_transformer , numerical_features),\n",
        "    ('cat',categorical_transformer,categorical_features)\n",
        "])\n",
        "X_train,X_test,y_train,y_test=train_test_split(X,y,test_size=0.2,random_state=10)\n",
        "\n",
        "X_train=preprocessor.fit_transform(X_train)\n",
        "X_test=preprocessor.transform(X_test)\n",
        "\n",
        "# here we are done with preparing the data\n"
      ],
      "metadata": {
        "id": "vVsRP4Owsqxg"
      },
      "execution_count": 6,
      "outputs": []
    },
    {
      "cell_type": "code",
      "source": [
        "# the next step is to chose a model and train the it\n",
        "from sklearn.ensemble import RandomForestRegressor\n",
        "from sklearn.metrics import mean_squared_error\n",
        "\n",
        "rf_model=RandomForestRegressor(n_estimators=100,random_state=10)\n",
        "rf_model.fit(X_train,y_train)\n",
        "\n",
        "y_pred=rf_model.predict(X_test)\n",
        "\n",
        "mse=mean_squared_error(y_test,y_pred)"
      ],
      "metadata": {
        "id": "pNqCrRjYBqmt"
      },
      "execution_count": 8,
      "outputs": []
    },
    {
      "cell_type": "code",
      "source": [
        "# now let's make the model more reliable\n",
        "from sklearn.model_selection import GridSearchCV\n",
        "param_grid={\n",
        "    'n_estimators':[50,100,200],\n",
        "    'max_depth':[None,10,20,30],\n",
        "    'min_samples_split':[2,5,10],\n",
        "    'min_samples_leaf':[1,2,4],\n",
        "}\n",
        "\n",
        "grid_search=GridSearchCV(estimator=RandomForestRegressor(random_state=10),param_grid=param_grid,cv=5,scoring='neg_mean_squared_error',n_jobs=-1)\n",
        "\n",
        "grid_search.fit(X_train,y_train)\n",
        "\n",
        "best_params=grid_search.best_params_\n",
        "print(f'{best_params}')\n",
        "best_rf_model = grid_search.best_estimator_\n",
        "best_rf_y_pred = best_rf_model.predict(X_test)\n",
        "best_rf_mse = mean_squared_error(y_test, best_rf_y_pred)\n",
        "print(f'Best Random Forest Mean Squared Error: {best_rf_mse}')\n"
      ],
      "metadata": {
        "colab": {
          "base_uri": "https://localhost:8080/"
        },
        "id": "rahAXjveC3Uq",
        "outputId": "fabb5ebc-c716-4a7b-fa16-9c0d25d3f96c"
      },
      "execution_count": 13,
      "outputs": [
        {
          "output_type": "stream",
          "name": "stdout",
          "text": [
            "{'max_depth': None, 'min_samples_leaf': 1, 'min_samples_split': 2, 'n_estimators': 200}\n"
          ]
        }
      ]
    }
  ]
}