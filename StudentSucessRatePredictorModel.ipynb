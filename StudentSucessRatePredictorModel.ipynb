{
  "nbformat": 4,
  "nbformat_minor": 0,
  "metadata": {
    "colab": {
      "provenance": [],
      "include_colab_link": true
    },
    "kernelspec": {
      "name": "python3",
      "display_name": "Python 3"
    },
    "language_info": {
      "name": "python"
    }
  },
  "cells": [
    {
      "cell_type": "markdown",
      "metadata": {
        "id": "view-in-github",
        "colab_type": "text"
      },
      "source": [
        "<a href=\"https://colab.research.google.com/github/Semalign/Semalign/blob/main/StudentSucessRatePredictorModel.ipynb\" target=\"_parent\"><img src=\"https://colab.research.google.com/assets/colab-badge.svg\" alt=\"Open In Colab\"/></a>"
      ]
    },
    {
      "cell_type": "markdown",
      "source": [
        "this is not ai generated but of my thought\n",
        "\n",
        "```\n",
        "# This is formatted as code\n",
        "```\n",
        "\n"
      ],
      "metadata": {
        "id": "sF8B3v7uDSXy"
      }
    },
    {
      "cell_type": "markdown",
      "source": [
        "# The problem is to predict student sucess rate based on students study *hours*, calorie intake and class attendance\n",
        "*italicized text*"
      ],
      "metadata": {
        "id": "hNKQKudCFyNr"
      }
    },
    {
      "cell_type": "code",
      "source": [
        "# let's import the necessary libraries for our project\n",
        "import numpy as np\n",
        "import pandas as pd\n",
        "from sklearn.model_selection import train_test_split\n",
        "from sklearn.preprocessing import StandardScaler,OneHotEncoder\n",
        "from sklearn.compose import ColumnTransformer\n",
        "from sklearn.pipeline import Pipeline\n",
        "from sklearn.linear_model import LinearRegression\n",
        "from sklearn.metrics import mean_squared_error,r2_score\n",
        "\n",
        "# i planned to use 100 sample data for training and testing the model\n",
        "samples=100\n",
        "\n",
        "# used seed of 10 in order to test anytime\n",
        "np.random.seed(10)\n",
        "# let's make our dataset using numpy module\n",
        "study_hours=np.random.randint(1,15,samples)\n",
        "calorie_intake=np.random.randint(100,200,samples)\n",
        "class_attendance=np.random.randint(0,100,samples)\n",
        "\n",
        "# i have randomly used linear regression formula not much realistic but for the purpose of training only\n",
        "success_rate = np.clip(((10 + (2.5 * study_hours) + (3.5 * calorie_intake) + (4.5 * class_attendance)) / 20), 0, 100)\n",
        "sample_data=pd.DataFrame({\n",
        "    'study_hours':study_hours,\n",
        "    'calorie_intake':calorie_intake,\n",
        "    'class_attendance':class_attendance,\n",
        "    'sucess_rate':success_rate\n",
        "    })\n",
        "sample_data.to_csv('study_data.csv',index=False)\n"
      ],
      "metadata": {
        "id": "KodRCGldDeD-"
      },
      "execution_count": 12,
      "outputs": []
    },
    {
      "cell_type": "markdown",
      "source": [
        "I have completed with dataset creation simple with 100 sample using numpy random function let's proceed with training our model\n"
      ],
      "metadata": {
        "id": "K7rnFZ2MGfgT"
      }
    },
    {
      "cell_type": "code",
      "source": [
        "# read the dataset and label the features and target\n",
        "data=pd.read_csv('study_data.csv')\n",
        "# the features are the first three columns of our dataset (study hours , calorie intake and class attendance) and the target is success rate\n",
        "X=data.drop('sucess_rate',axis=1)\n",
        "y=data['sucess_rate']\n",
        "numerical_features=['study_hours','calorie_intake','class_attendance']\n",
        "\n",
        "# the next step is to standardise our data for analysis\n",
        "numerical_transformer=Pipeline(steps=[\n",
        "    ('scaler',StandardScaler())\n",
        "])\n",
        "preprocessor=ColumnTransformer(\n",
        "    transformers=[\n",
        "        ('num',numerical_transformer,numerical_features),\n",
        "    ])\n",
        "# let's use 20% for testing and 80 % for training and split the dataset into training and test set\n",
        "X_train,X_test,y_train,y_test=train_test_split(X,y,test_size=0.2,random_state=10)\n",
        "# also preprocess the data for avoiding any inconcistency\n",
        "X_train_processed=preprocessor.fit_transform(X_train)\n",
        "X_test_processed=preprocessor.transform(X_test)\n"
      ],
      "metadata": {
        "id": "doCnq-N3EnPk"
      },
      "execution_count": 13,
      "outputs": []
    },
    {
      "cell_type": "markdown",
      "source": [
        "Now having done with data preprocessing stage it's time to train our model"
      ],
      "metadata": {
        "id": "gmkgJ46iIouk"
      }
    },
    {
      "cell_type": "code",
      "source": [
        "# let's train the mdoel using linear regression model from scikit learn library\n",
        "# initialize the model\n",
        "model=LinearRegression()\n",
        "# train the model in the dataset\n",
        "model.fit(X_train_processed,y_train)\n",
        "# use the model to predict for test dataset\n",
        "y_pred=model.predict(X_test_processed)\n",
        "# calculate the error in the dataset using mse and r2_score from scikit learn metrics\n",
        "mse=mean_squared_error(y_test,y_pred)\n",
        "r2=r2_score(y_test,y_pred)\n",
        "print('Mean Squared Error:',mse)\n",
        "print('R-squared:',r2)"
      ],
      "metadata": {
        "colab": {
          "base_uri": "https://localhost:8080/"
        },
        "id": "gbvonZU3Kcf9",
        "outputId": "d1f09219-9c97-45cc-c8a9-1dde29a6877e"
      },
      "execution_count": 14,
      "outputs": [
        {
          "output_type": "stream",
          "name": "stdout",
          "text": [
            "Mean Squared Error: 3.0923347484663665e-29\n",
            "R-squared: 1.0\n"
          ]
        }
      ]
    },
    {
      "cell_type": "markdown",
      "source": [
        "Oh now we are done with training the model the next task is to use new data to predict student's sucess_rate"
      ],
      "metadata": {
        "id": "Xzv9bUgVJk40"
      }
    },
    {
      "cell_type": "code",
      "source": [
        "# using the joblib library to save and restore our model and apply it to current example\n",
        "import joblib\n",
        "joblib.dump(model,'study_model.pkl')\n",
        "model=joblib.load('study_model.pkl')\n",
        "\n",
        "# let's give new data item a student who studies 10 hours , and takes 400 calorie and attends 100 classes hopefully this student should succeed\n",
        "new_data=pd.DataFrame({\n",
        "    'study_hours':[15],\n",
        "    'calorie_intake':[200],\n",
        "    'class_attendance':[100]\n",
        "})\n",
        "new_data_processed=preprocessor.transform(new_data)\n",
        "predicted_sucess_rate=model.predict(new_data_processed)\n",
        "predicted_success_rate = np.clip(predicted_sucess_rate, 0, 100)\n",
        "print('Predicted Sucess Rate:',predicted_sucess_rate)\n"
      ],
      "metadata": {
        "colab": {
          "base_uri": "https://localhost:8080/"
        },
        "id": "CWLW8rDaMM62",
        "outputId": "8dab9be2-54c6-4c8d-b8ed-73b9464db40e"
      },
      "execution_count": 16,
      "outputs": [
        {
          "output_type": "stream",
          "name": "stdout",
          "text": [
            "Predicted Sucess Rate: [59.875]\n"
          ]
        }
      ]
    },
    {
      "cell_type": "markdown",
      "source": [
        "our model predicted"
      ],
      "metadata": {
        "id": "IVtyWo-zKMYZ"
      }
    }
  ]
}