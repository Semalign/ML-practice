{
  "nbformat": 4,
  "nbformat_minor": 0,
  "metadata": {
    "colab": {
      "provenance": [],
      "authorship_tag": "ABX9TyNmIh53N9bS/C+VgH86ztC+",
      "include_colab_link": true
    },
    "kernelspec": {
      "name": "python3",
      "display_name": "Python 3"
    },
    "language_info": {
      "name": "python"
    }
  },
  "cells": [
    {
      "cell_type": "markdown",
      "metadata": {
        "id": "view-in-github",
        "colab_type": "text"
      },
      "source": [
        "<a href=\"https://colab.research.google.com/github/Semalign/Semalign/blob/main/Untitled9.ipynb\" target=\"_parent\"><img src=\"https://colab.research.google.com/assets/colab-badge.svg\" alt=\"Open In Colab\"/></a>"
      ]
    },
    {
      "cell_type": "code",
      "execution_count": null,
      "metadata": {
        "id": "qFp5fIQ_CT0R"
      },
      "outputs": [],
      "source": [
        "#"
      ]
    },
    {
      "cell_type": "markdown",
      "source": [
        "\n",
        "**ML practice using gpt\n",
        "**"
      ],
      "metadata": {
        "id": "9WermKmKCZiz"
      }
    },
    {
      "cell_type": "code",
      "source": [
        "# the problem is customer churn for a telecom company it is rate ata which customers leave a service over agiven perion\n",
        "# step 1 : define the problem\n",
        "# predict customer churn (classificstion probelm\n",
        "# data is synthetic dataset )\n",
        "# features are customer age, account length , usage metrics , label of output\n",
        "# success metrics : accuracy ,precision ,recall ,f1 score"
      ],
      "metadata": {
        "id": "hgVCxne4ChE3"
      },
      "execution_count": null,
      "outputs": []
    },
    {
      "cell_type": "code",
      "source": [
        "# the next step is collect the data"
      ],
      "metadata": {
        "id": "wRRPPQt7DZN-"
      },
      "execution_count": null,
      "outputs": []
    },
    {
      "cell_type": "code",
      "source": [
        "import pandas as pd\n",
        "import numpy as np\n",
        "\n",
        "num_samples=1000\n",
        "\n",
        "np.random.seed(10)\n",
        "\n",
        "age=np.random.randint(18,70,num_samples)\n",
        "acc_length=np.random.randint(1,100,num_samples)\n",
        "call_minutes=np.random.uniform(100,1000,num_samples)\n",
        "data_usage=np.random.uniform(1,100,num_samples)\n",
        "churn=np.random.choice([0,1],num_samples,p=[0.8,0.2])\n",
        "# create the dataframe\n",
        "\n",
        "churn_data=pd.DataFrame({\n",
        "    'age':age,\n",
        "    'account_length':acc_length,\n",
        "    'call_minutes':call_minutes,\n",
        "    'data_usage':data_usage,\n",
        "    'churn':churn,\n",
        "})\n",
        "churn_data.to_csv('churn_dataset synthetic.csv',index=False)\n",
        "\n"
      ],
      "metadata": {
        "id": "tdrXdOIuDdcN"
      },
      "execution_count": null,
      "outputs": []
    },
    {
      "cell_type": "code",
      "source": [
        "# having done with dataset created now let's move to preparing the data\n",
        "from sklearn.model_selection import train_test_split\n",
        "from sklearn.preprocessing import StandardScaler\n",
        "from sklearn.compose import ColumnTransformer\n",
        "from sklearn.pipeline import Pipeline\n",
        "\n",
        "\n",
        "data=pd.read_csv('churn_dataset synthetic.csv')\n",
        "\n",
        "X=data.drop('churn',axis=1)\n",
        "y=data['churn']\n",
        "\n",
        "\n",
        "numerical_features=['age','account_length','call_minutes','data_usage']\n",
        "numeric_transformer=Pipeline(steps=[('scaler',StandardScaler())])\n",
        "preprocessor=ColumnTransformer(transformers=[('num',numeric_transformer,numerical_features)])\n",
        "X_train,X_test,y_train,y_test=train_test_split(X,y,test_size=0.2,random_state=10)\n",
        "X_train=preprocessor.fit_transform(X_train)\n",
        "X_test=preprocessor.transform(X_test)\n"
      ],
      "metadata": {
        "id": "xub4ciYFHb7y"
      },
      "execution_count": null,
      "outputs": []
    },
    {
      "cell_type": "code",
      "source": [
        "# the next step is to chose the model and train a model\n",
        "# using random forest classfier\n",
        "from sklearn.ensemble import RandomForestClassifier\n",
        "from sklearn.metrics import accuracy_score,precision_score,recall_score,f1_score\n",
        "\n",
        "rf_model= RandomForestClassifier(n_estimators=100,random_state=10)\n",
        "rf_model.fit(X_train,y_train)\n",
        "\n",
        "# now trained the model let's use it on testdata and evaluate it\n",
        "y_pred=rf_model.predict(X_test)\n",
        "\n",
        "accuracy=accuracy_score(y_test,y_pred)\n",
        "precision=precision_score(y_test,y_pred)\n",
        "recall=recall_score(y_test,y_pred)\n",
        "f1_score=f1_score(y_test,y_pred)\n",
        "\n",
        "print(f'accuracy:{accuracy}')\n",
        "print(f'precision:{precision}')\n",
        "print(f'recall:{recall}')\n",
        "print(f'f1_score:{f1_score}')"
      ],
      "metadata": {
        "id": "qynjuFayN1P8"
      },
      "execution_count": null,
      "outputs": []
    },
    {
      "cell_type": "code",
      "source": [
        "#tune the model\n",
        "# we can use Grid Search to find the best hyperparamers\n",
        "# define parameter grid , cross validation , evaluation , best performance\n",
        "from sklearn.model_selection import GridSearchCV\n",
        "\n",
        "param_grid={\n",
        "    'n_estimators':[50,100,200],\n",
        "    'max_depth':[None,10,20,30],\n",
        "    'min_samples_split':[2,5,10],\n",
        "    'min_samples_leaf':[1,2,4],\n",
        "}\n",
        "grid_search=GridSearchCV(estimator=RandomForestClassifier(random_state=10),param_grid=param_grid,cv=5,scoring='accuracy',n_jobs=-1)\n",
        "grid_search.fit(X_train,y_train)\n",
        "best_params=grid_search.best_params_\n",
        "\n",
        "best_rf_model=grid_search.best_estimator_\n",
        "best_rf_y_pred=best_rf_model.predict(X_test)\n",
        "best_rf_accuracy=accuracy_score(y_test,best_rf_y_pred)\n",
        "best_rf_precision=precision_score(y_test,best_rf_y_pred)\n",
        "best_rf_recall=recall_score(y_test,best_rf_y_pred)\n",
        "best_rf_f1=f1_score(y_test,best_rf_y_pred)\n",
        "\n",
        "\n",
        "\n",
        "\n"
      ],
      "metadata": {
        "id": "GJ-352K6QUWc"
      },
      "execution_count": null,
      "outputs": []
    },
    {
      "cell_type": "code",
      "source": [
        "\n",
        "\n"
      ],
      "metadata": {
        "id": "iR4BcBNiTzaN"
      },
      "execution_count": null,
      "outputs": []
    }
  ]
}