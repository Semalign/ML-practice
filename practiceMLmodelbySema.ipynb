{
  "nbformat": 4,
  "nbformat_minor": 0,
  "metadata": {
    "colab": {
      "provenance": [],
      "authorship_tag": "ABX9TyO126m51c44U6RwZ/nhfKxc",
      "include_colab_link": true
    },
    "kernelspec": {
      "name": "python3",
      "display_name": "Python 3"
    },
    "language_info": {
      "name": "python"
    }
  },
  "cells": [
    {
      "cell_type": "markdown",
      "metadata": {
        "id": "view-in-github",
        "colab_type": "text"
      },
      "source": [
        "<a href=\"https://colab.research.google.com/github/Semalign/Semalign/blob/main/practiceMLmodelbySema.ipynb\" target=\"_parent\"><img src=\"https://colab.research.google.com/assets/colab-badge.svg\" alt=\"Open In Colab\"/></a>"
      ]
    },
    {
      "cell_type": "markdown",
      "source": [
        "this is not ai generated but of my thought\n",
        "\n",
        "```\n",
        "# This is formatted as code\n",
        "```\n",
        "\n"
      ],
      "metadata": {
        "id": "sF8B3v7uDSXy"
      }
    },
    {
      "cell_type": "code",
      "source": [
        "import numpy as np\n",
        "import pandas as pd\n",
        "\n",
        "samples=100\n",
        "\n",
        "# the problem is to predict student sucess rate based on students study hours, calorie intake and class attendance\n",
        "\n",
        "np.random.seed(10)\n",
        "study_hours=np.random.randint(1,15,samples)\n",
        "calorie_intake=np.random.randint(100,200,samples)\n",
        "class_attendance=np.random.randint(0,100,samples)\n",
        "\n",
        "sucess_rate=((10+(2.5*study_hours)+(3.5*calorie_intake)+(4.5*class_attendance))/10)\n",
        "sample_data=pd.DataFrame({\n",
        "    'study_hours':study_hours,\n",
        "    'calorie_intake':calorie_intake,\n",
        "    'class_attendance':class_attendance,\n",
        "    'sucess_rate':sucess_rate\n",
        "    })\n",
        "sample_data.to_csv('study_data.csv',index=False)\n"
      ],
      "metadata": {
        "id": "KodRCGldDeD-"
      },
      "execution_count": 14,
      "outputs": []
    },
    {
      "cell_type": "code",
      "source": [
        "from sklearn.model_selection import train_test_split\n",
        "from sklearn.preprocessing import StandardScaler,OneHotEncoder\n",
        "from sklearn.compose import ColumnTransformer\n",
        "from sklearn.pipeline import Pipeline\n",
        "\n",
        "\n",
        "data=pd.read_csv('study_data.csv')\n",
        "X=data.drop('sucess_rate',axis=1)\n",
        "y=data['sucess_rate']\n",
        "\n",
        "numerica_features=['study_hours','calorie_intake','class_attendance']\n",
        "categorical_features=['sucess_rate']\n",
        "\n",
        "numerical_transformer=Pipeline(steps=[\n",
        "    ('scaler',StandardScaler())\n",
        "])\n",
        "preprocessor=ColumnTransformer(\n",
        "    transformers=[\n",
        "        ('num',numerical_transformer,numerica_features),\n",
        "    ])\n",
        "X_train,X_test,y_train,y_test=train_test_split(X,y,test_size=0.2,random_state=42)\n",
        "X_train_processed=preprocessor.fit_transform(X_train)\n",
        "X_test_processed=preprocessor.transform(X_test)\n"
      ],
      "metadata": {
        "id": "doCnq-N3EnPk"
      },
      "execution_count": 20,
      "outputs": []
    },
    {
      "cell_type": "code",
      "source": [
        "from sklearn.linear_model import LinearRegression\n",
        "from sklearn.metrics import mean_squared_error,r2_score\n",
        "\n",
        "model=LinearRegression()\n",
        "model.fit(X_train_processed,y_train)\n",
        "y_pred=model.predict(X_test_processed)\n",
        "mse=mean_squared_error(y_test,y_pred)\n",
        "r2=r2_score(y_test,y_pred)\n",
        "print('Mean Squared Error:',mse)\n",
        "print('R-squared:',r2)"
      ],
      "metadata": {
        "colab": {
          "base_uri": "https://localhost:8080/"
        },
        "id": "gbvonZU3Kcf9",
        "outputId": "528ec5ca-a677-4b94-d656-fed4c54ed948"
      },
      "execution_count": 22,
      "outputs": [
        {
          "output_type": "stream",
          "name": "stdout",
          "text": [
            "Mean Squared Error: 1.7165613297609216e-28\n",
            "R-squared: 1.0\n"
          ]
        }
      ]
    },
    {
      "cell_type": "code",
      "source": [
        "import joblib\n",
        "joblib.dump(model,'study_model.pkl')\n",
        "model=joblib.load('study_model.pkl')\n",
        "new_data=pd.DataFrame({\n",
        "    'study_hours':[10],\n",
        "    'calorie_intake':[400],\n",
        "    'class_attendance':[100]\n",
        "})\n",
        "new_data_processed=preprocessor.transform(new_data)\n",
        "predicted_sucess_rate=model.predict(new_data_processed)\n",
        "print('Predicted Sucess Rate:',predicted_sucess_rate)\n"
      ],
      "metadata": {
        "colab": {
          "base_uri": "https://localhost:8080/"
        },
        "id": "CWLW8rDaMM62",
        "outputId": "0dcb99a8-fd5f-4277-9ecf-6926583fc7e6"
      },
      "execution_count": 27,
      "outputs": [
        {
          "output_type": "stream",
          "name": "stdout",
          "text": [
            "Predicted Sucess Rate: [188.5]\n"
          ]
        }
      ]
    }
  ]
}